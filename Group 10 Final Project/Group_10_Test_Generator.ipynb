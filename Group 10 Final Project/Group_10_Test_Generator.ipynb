{
 "cells": [
  {
   "cell_type": "code",
   "execution_count": 3,
   "id": "099d0afd-0ad9-4080-84aa-8eda0005514c",
   "metadata": {},
   "outputs": [
    {
     "name": "stdout",
     "output_type": "stream",
     "text": [
      "Starting over for a new student.\n"
     ]
    },
    {
     "name": "stdin",
     "output_type": "stream",
     "text": [
      "First name:\t\t Garrett\n",
      "Last name:\t\t Jones\n",
      "Student ID (A#####):\t A23456\n"
     ]
    },
    {
     "name": "stdout",
     "output_type": "stream",
     "text": [
      "\n",
      "How many questions would you like your quiz to have?\n",
      "(A) - 10 questions\n",
      "(B) - 20 questions\n"
     ]
    },
    {
     "name": "stdin",
     "output_type": "stream",
     "text": [
      " a\n"
     ]
    },
    {
     "name": "stdout",
     "output_type": "stream",
     "text": [
      "Proceeding with 10 questions\n",
      "\n",
      "Question #1: What does print(file.read((10))\n",
      "A: read the first 10 lines\n",
      "B: read the first 10 characters\n",
      "C: read the first 10 words\n"
     ]
    },
    {
     "name": "stdin",
     "output_type": "stream",
     "text": [
      "Answer:\t a\n"
     ]
    },
    {
     "name": "stdout",
     "output_type": "stream",
     "text": [
      "Incorrect.\n",
      "\n",
      "Question #2: What does DELETE do in SQL?\n",
      "A: Deletes a specific object, but not the relationship.\n",
      "B: Deletes a specific object and all relationships\n",
      "C: A way to delete all the work you did this session.\n"
     ]
    },
    {
     "name": "stdin",
     "output_type": "stream",
     "text": [
      "Answer:\t a\n"
     ]
    },
    {
     "name": "stdout",
     "output_type": "stream",
     "text": [
      "Correct.\n",
      "\n",
      "Question #3: How do you cast an integer to a string in Python?\n",
      "A: toString(myInt)\n",
      "B: string(myInt)\n",
      "C: str(myInt)\n"
     ]
    },
    {
     "name": "stdin",
     "output_type": "stream",
     "text": [
      "Answer:\t a\n"
     ]
    },
    {
     "name": "stdout",
     "output_type": "stream",
     "text": [
      "Incorrect.\n",
      "\n",
      "Question #4: What is the proper way to use the and logical operator in Python?\n",
      "A: if i == 4 and j == 4:\n",
      "B: if i ==4 && j == 4:\n",
      "C: if and(i == 4, j ==4):\n"
     ]
    },
    {
     "name": "stdin",
     "output_type": "stream",
     "text": [
      "Answer:\t a\n"
     ]
    },
    {
     "name": "stdout",
     "output_type": "stream",
     "text": [
      "Correct.\n",
      "\n",
      "Question #5: What tool is used to scan for ports in Kali Linux?\n",
      "A: HashCat\n",
      "B: Nmap\n",
      "C: Hydra\n"
     ]
    },
    {
     "name": "stdin",
     "output_type": "stream",
     "text": [
      "Answer:\t a\n"
     ]
    },
    {
     "name": "stdout",
     "output_type": "stream",
     "text": [
      "Incorrect.\n",
      "\n",
      "Question #6: Which is not a data type in python?\n",
      "A: char\n",
      "B: bool\n",
      "C: list\n"
     ]
    },
    {
     "name": "stdin",
     "output_type": "stream",
     "text": [
      "Answer:\t a\n"
     ]
    },
    {
     "name": "stdout",
     "output_type": "stream",
     "text": [
      "Correct.\n",
      "\n",
      "Question #7: Is Python case sensitive when dealing with identifiers?\n",
      "A: no\n",
      "B: yes\n",
      "C: only in specific cases\n"
     ]
    },
    {
     "name": "stdin",
     "output_type": "stream",
     "text": [
      "Answer:\t a\n"
     ]
    },
    {
     "name": "stdout",
     "output_type": "stream",
     "text": [
      "Correct.\n",
      "\n",
      "Question #8: True or False: Elements in a dictionary are sorted\n",
      "A: TRUE\n",
      "B: FALSE\n",
      "C: \n"
     ]
    },
    {
     "name": "stdin",
     "output_type": "stream",
     "text": [
      "Answer:\t a\n"
     ]
    },
    {
     "name": "stdout",
     "output_type": "stream",
     "text": [
      "Incorrect.\n",
      "\n",
      "Question #9: What does MATCH do in Neo4j?\n",
      "A: Find similarity between two pieces of data.\n",
      "B: Find any number of instances with specifications.\n",
      "C: Finds only the closest match between two pieces of data.\n"
     ]
    },
    {
     "name": "stdin",
     "output_type": "stream",
     "text": [
      "Answer:\t a\n"
     ]
    },
    {
     "name": "stdout",
     "output_type": "stream",
     "text": [
      "Incorrect.\n",
      "\n",
      "[Skipping duplicate question]\n",
      "Question #10: Which of these is not a real python package?\n",
      "A: pandas\n",
      "B: iostream\n",
      "C: numpy\n"
     ]
    },
    {
     "name": "stdin",
     "output_type": "stream",
     "text": [
      "Answer:\t a\n"
     ]
    },
    {
     "name": "stdout",
     "output_type": "stream",
     "text": [
      "Incorrect.\n",
      "\n",
      "Results successfully written to Garrett_Jones_A23456.txt\n",
      "Quiz has ended. Please enter (Q) to exit the program or (S) to start a new quiz.\n"
     ]
    },
    {
     "name": "stdin",
     "output_type": "stream",
     "text": [
      " q\n"
     ]
    },
    {
     "name": "stdout",
     "output_type": "stream",
     "text": [
      "Program has been terminated.\n"
     ]
    }
   ],
   "source": [
    "import csv\n",
    "import random\n",
    "import time\n",
    "from IPython.display import clear_output\n",
    "\n",
    "def import_test_bank():\n",
    "    \"\"\"\n",
    "    Imports a csv test bank, turns each row into an element of a list,\n",
    "    and removes the first key row\n",
    "    \"\"\"\n",
    "    with open(\"CPSC 236 TestBank.csv\",\"r\") as file:\n",
    "        reader=csv.reader(file)\n",
    "        bank=[]\n",
    "        for row in reader:\n",
    "            bank.append(row)\n",
    "        bank.pop(0)\n",
    "    return bank\n",
    "\n",
    "def get_question(test_bank,used_up):\n",
    "    \"\"\"\n",
    "    Accepts the question bank list and a list of question indexes \n",
    "    already selected, returns a list contianing a randomly selected \n",
    "    question and an updated version of the used index list\n",
    "    \"\"\"\n",
    "    while True:\n",
    "        question_num=random.randint(0,len(test_bank)-1)\n",
    "        if question_num in used_up:\n",
    "            print(\"[Skipping duplicate question]\")\n",
    "            continue\n",
    "        used_up.append(question_num)\n",
    "        question_list=test_bank[question_num]\n",
    "        return question_list,used_up\n",
    "\n",
    "def display_question(question_info,question_number):\n",
    "    \"\"\"\n",
    "    Isolated code to display the active question in the console.\n",
    "    \"\"\"\n",
    "    print(\"Question #\"+str(question_number)+\": \"+question_info[0])\n",
    "    print(\"A: \"+question_info[1])\n",
    "    print(\"B: \"+question_info[2])\n",
    "    print(\"C: \"+question_info[3])\n",
    "\n",
    "def get_user_info():\n",
    "    \"\"\"\n",
    "    Gets user information. Exits with a break code if the user\n",
    "    inputs 3 invalid IDs. Returns a list of the user's first name,\n",
    "    last name, and ID #\n",
    "    \"\"\"\n",
    "    bad_attempts=0\n",
    "    break_code=\"False\"\n",
    "    user_info=[]\n",
    "    fname_entry=input(\"First name:\\t\\t\")\n",
    "    lname_entry=input(\"Last name:\\t\\t\")\n",
    "    while bad_attempts<=2:\n",
    "        id_entry=input(\"Student ID (A#####):\\t\")\n",
    "        if id_entry.startswith(\"A\")==True:\n",
    "            if len(id_entry)==6:\n",
    "                break\n",
    "            else:\n",
    "                print(\"Student ID number consists of 'A' followed by 5 numerals.\")\n",
    "                bad_attempts+=1\n",
    "        else:\n",
    "            print(\"Student ID should begin with 'A'\")  \n",
    "            bad_attempts+=1\n",
    "    if bad_attempts>2:\n",
    "        break_code=\"True\"\n",
    "        print(\"Maximum number of attempts reached, terminating quiz.\")\n",
    "    print()\n",
    "    user_info.append(fname_entry)\n",
    "    user_info.append(lname_entry)\n",
    "    user_info.append(id_entry)\n",
    "    return user_info,break_code\n",
    "\n",
    "def write_results(user_info,score,time,used_questions,student_answers,skipped):\n",
    "    \"\"\"\n",
    "    Writes all relevant information to a results .txt file. Generates a filename from user_info\n",
    "    and writes the student's score, elapsed time, and individual question results to this file.\n",
    "    The function also accepts and writes a count of questions skipped due to time limits.\n",
    "    \"\"\"\n",
    "    index=0\n",
    "    filename=user_info[0]+\"_\"+user_info[1]+\"_\"+user_info[2]+\".txt\"\n",
    "    mintime,sectime=format_seconds(time)\n",
    "    score_pct=round((score/10)*100,2)\n",
    "    with open(filename,\"w\") as file:\n",
    "        file.write(\"Student ID: \"+user_info[2]+\"\\n\")\n",
    "        file.write(\"Name: \"+user_info[0]+\" \"+user_info[1]+\"\\n\\n\")\n",
    "        file.write(\"Score: \"+str(score)+\"/10\\t(\"+str(score_pct)+\"%)\\n\")\n",
    "        file.write(\"Time elapsed: \"+str(mintime)+\" minutes and \"+str(sectime)+\" seconds\\n\\n\")\n",
    "        for item in used_questions:\n",
    "            file.write(\"#\"+str(index+1)+\": \"+item[0]+\"\\n\")\n",
    "            file.write(\"Correct answer: \"+item[4]+\"\\n\")\n",
    "            file.write(\"Student answer: \"+student_answers[index]+\"\\n\")\n",
    "            index+=1\n",
    "        if skipped>0:\n",
    "            file.write(\"\\n\"+str(skipped)+\" questions were skipped due to running out of time.\")\n",
    "        print(\"Results successfully written to \"+filename)\n",
    "\n",
    "def test_size():\n",
    "    \"\"\"\n",
    "    Gets user input about the length of their quiz, returns the desired cap and\n",
    "    a weight value to use when grading each question.\n",
    "    \"\"\"\n",
    "    print(\"How many questions would you like your quiz to have?\")\n",
    "    print(\"(A) - 10 questions\")\n",
    "    print(\"(B) - 20 questions\")\n",
    "    while True:\n",
    "        size_code=input()\n",
    "        if size_code.upper()==\"A\":\n",
    "            print(\"Proceeding with 10 questions\\n\")\n",
    "            test_cap=11\n",
    "            weight=1\n",
    "            break\n",
    "        elif size_code.upper()==\"B\":\n",
    "            print(\"Proceeding with 20 questions\\n\")\n",
    "            test_cap=21\n",
    "            weight=0.5\n",
    "            break\n",
    "        else:\n",
    "            print(\"Valid inputs are 'A' or 'B'\")\n",
    "    return test_cap,weight\n",
    "\n",
    "def format_seconds(time):\n",
    "    \"\"\"\n",
    "    Translates a seconds value into minutes and remaining seconds\n",
    "    \"\"\"\n",
    "    minutes=time//60\n",
    "    seconds=time-(minutes*60)\n",
    "    return minutes,seconds\n",
    "\n",
    "def main():\n",
    "    test_bank=import_test_bank()\n",
    "    break_code=\"False\"\n",
    "    # Break code is used to prevent the program from running after the user has triggered it.\n",
    "    # Only break code in current implementation comes from get_user_info\n",
    "    while break_code==\"False\":\n",
    "        #Initialize needed default values and lists.\n",
    "        question_number=1\n",
    "        correct_ct=0\n",
    "        ttime=0\n",
    "        used_up=[]\n",
    "        used_questions=[]\n",
    "        student_answers=[]\n",
    "        skipped=0\n",
    "        break_code=False\n",
    "        user_info,break_code=get_user_info()\n",
    "        # Test begins now. Starting time is fetched and stored.\n",
    "        start_time=round(time.time(),0)\n",
    "        while break_code==\"False\":\n",
    "            test_cap,weight=test_size()\n",
    "            while question_number<test_cap:\n",
    "                #Test begins to loop. \n",
    "                question_info,used_up=get_question(test_bank,used_up)\n",
    "                display_question(question_info,question_number)\n",
    "                correct_answer=question_info[4]\n",
    "                while True:\n",
    "                    # User enters a response. Loops until a valid A,B,C is entered.\n",
    "                    user_answer=input(\"Answer:\\t\")\n",
    "                    if user_answer.upper()==\"A\" or user_answer.upper()==\"B\" or user_answer.upper()==\"C\":\n",
    "                        break\n",
    "                    else:\n",
    "                        print(\"Please enter a valid answer (A, B, or C)\")\n",
    "                if user_answer.upper()==correct_answer.upper():\n",
    "                    # User answer is checked against the fetched correct answer, score incremented if so.\n",
    "                    correct_ct+=1\n",
    "                    print(\"Correct.\\n\")\n",
    "                else:\n",
    "                    print(\"Incorrect.\\n\")\n",
    "                # Question data is stored for retrieval by write_results.\n",
    "                used_questions.append(question_info)\n",
    "                student_answers.append(user_answer.upper())\n",
    "                question_number+=1\n",
    "                # Grabs the current time and compares it against the time limit of 600 seconds (10 min)\n",
    "                # If time limit is exceeded, test is terminated.\n",
    "                cur_time=round(time.time(),0)\n",
    "                elapsed_time=cur_time-start_time\n",
    "                if elapsed_time>600 and question_number<test_cap:\n",
    "                    print(\"Time limit reached. Test is concluding early.\")\n",
    "                    skipped=test_cap-question_number\n",
    "                    print(\"Number of questions remaining: \"+str(skipped)+\"\\n\")\n",
    "                    break\n",
    "            # Final results are calculated and all necessary values are passed to write_results\n",
    "            score=correct_ct*weight\n",
    "            endtime=round(time.time(),0)\n",
    "            ttime=endtime-start_time\n",
    "            write_results(user_info,score,ttime,used_questions,student_answers,skipped)\n",
    "            break\n",
    "        print(\"Quiz has ended. Please enter (Q) to exit the program or (S) to start a new quiz.\")\n",
    "        while True:\n",
    "            choice=input()\n",
    "            if choice.upper()==\"Q\" or choice.upper()==\"S\":\n",
    "                break\n",
    "            else:\n",
    "                print(\"Valid entries are 'Q' and 'S'\")\n",
    "        if choice.upper()==\"Q\":\n",
    "            # Program reaches end here.\n",
    "            print(\"Program has been terminated.\")\n",
    "            break\n",
    "        elif choice.upper()==\"S\":\n",
    "            # Uses imported clear_output function to wipe the previous student's test from the screen.\n",
    "            # Test program returns to beginning and all values are reinitialized.\n",
    "            clear_output()\n",
    "            print(\"Starting over for a new student.\")\n",
    "            continue\n",
    "            \n",
    "if __name__==\"__main__\":\n",
    "    main()"
   ]
  },
  {
   "cell_type": "code",
   "execution_count": 57,
   "id": "5df6ca75-3fcd-4792-a915-d20d721eb55d",
   "metadata": {},
   "outputs": [
    {
     "name": "stdout",
     "output_type": "stream",
     "text": [
      "2\n"
     ]
    }
   ],
   "source": []
  },
  {
   "cell_type": "code",
   "execution_count": null,
   "id": "160aefa9-0549-443e-93ec-4a80a436eb02",
   "metadata": {},
   "outputs": [],
   "source": []
  }
 ],
 "metadata": {
  "kernelspec": {
   "display_name": "Python 3 (ipykernel)",
   "language": "python",
   "name": "python3"
  },
  "language_info": {
   "codemirror_mode": {
    "name": "ipython",
    "version": 3
   },
   "file_extension": ".py",
   "mimetype": "text/x-python",
   "name": "python",
   "nbconvert_exporter": "python",
   "pygments_lexer": "ipython3",
   "version": "3.12.1"
  }
 },
 "nbformat": 4,
 "nbformat_minor": 5
}
