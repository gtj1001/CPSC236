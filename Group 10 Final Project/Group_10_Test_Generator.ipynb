{
 "cells": [
  {
   "cell_type": "code",
   "execution_count": 76,
   "id": "099d0afd-0ad9-4080-84aa-8eda0005514c",
   "metadata": {},
   "outputs": [
    {
     "name": "stdin",
     "output_type": "stream",
     "text": [
      "First name:\t\t Garrett\n",
      "Last name:\t\t Jones\n",
      "Student ID (A#####):\t A12345\n"
     ]
    },
    {
     "name": "stdout",
     "output_type": "stream",
     "text": [
      "\n",
      "How many questions would you like your quiz to have?\n",
      "(A) - 10 questions\n",
      "(B) - 20 questions\n"
     ]
    },
    {
     "name": "stdin",
     "output_type": "stream",
     "text": [
      " a\n"
     ]
    },
    {
     "name": "stdout",
     "output_type": "stream",
     "text": [
      "Proceeding with 10 questions\n",
      "\n",
      "Question #1: What is a variable?\n",
      "A: Anonymous value holder\n",
      "B: Named value holder\n",
      "C: Value less holder\n"
     ]
    },
    {
     "name": "stdin",
     "output_type": "stream",
     "text": [
      "Answer:\t a\n"
     ]
    },
    {
     "name": "stdout",
     "output_type": "stream",
     "text": [
      "Incorrect.\n",
      "\n",
      "Question #2: How many Megabytes are in a Gigabyte?\n",
      "A: 2048\n",
      "B: 500\n",
      "C: 1024\n"
     ]
    },
    {
     "name": "stdin",
     "output_type": "stream",
     "text": [
      "Answer:\t a\n"
     ]
    },
    {
     "name": "stdout",
     "output_type": "stream",
     "text": [
      "Incorrect.\n",
      "\n",
      "Question #3: Which type of Programming does Python support?\n",
      "A: object-oriented programming\n",
      "B: functional programming\n",
      "C: all of the above\n"
     ]
    },
    {
     "name": "stdin",
     "output_type": "stream",
     "text": [
      "Answer:\t a\n"
     ]
    },
    {
     "name": "stdout",
     "output_type": "stream",
     "text": [
      "Incorrect.\n",
      "\n",
      "Question #4: How do you cast an integer to a string in Python?\n",
      "A: toString(myInt)\n",
      "B: string(myInt)\n",
      "C: str(myInt)\n"
     ]
    },
    {
     "name": "stdin",
     "output_type": "stream",
     "text": [
      "Answer:\t a\n"
     ]
    },
    {
     "name": "stdout",
     "output_type": "stream",
     "text": [
      "Incorrect.\n",
      "\n",
      "Question #5: How many bits are in a byte?\n",
      "A: 2\n",
      "B: 8\n",
      "C: 10\n"
     ]
    },
    {
     "name": "stdin",
     "output_type": "stream",
     "text": [
      "Answer:\t a\n"
     ]
    },
    {
     "name": "stdout",
     "output_type": "stream",
     "text": [
      "Incorrect.\n",
      "\n",
      "Question #6: How many decimal points does the round function round to?\n",
      "A: 0\n",
      "B: 1\n",
      "C: 2\n"
     ]
    },
    {
     "name": "stdin",
     "output_type": "stream",
     "text": [
      "Answer:\t a\n"
     ]
    },
    {
     "name": "stdout",
     "output_type": "stream",
     "text": [
      "Correct.\n",
      "\n",
      "Question #7: What is the binary programming language called that computers respond to directly?\n",
      "A: Blockchain\n",
      "B: Machine Code\n",
      "C: Microcosm\n"
     ]
    },
    {
     "name": "stdin",
     "output_type": "stream",
     "text": [
      "Answer:\t a\n"
     ]
    },
    {
     "name": "stdout",
     "output_type": "stream",
     "text": [
      "Incorrect.\n",
      "\n",
      "Question #8: What library can PI be accessed with?\n",
      "A: Calc\n",
      "B: Math\n",
      "C: Geometry\n"
     ]
    },
    {
     "name": "stdin",
     "output_type": "stream",
     "text": [
      "Answer:\t a\n"
     ]
    },
    {
     "name": "stdout",
     "output_type": "stream",
     "text": [
      "Incorrect.\n",
      "\n",
      "Question #9: The boolean operator that returns true if its single operand are true?\n",
      "A: AND\n",
      "B: NOT\n",
      "C: OR\n"
     ]
    },
    {
     "name": "stdin",
     "output_type": "stream",
     "text": [
      "Answer:\t a\n"
     ]
    },
    {
     "name": "stdout",
     "output_type": "stream",
     "text": [
      "Incorrect.\n",
      "\n",
      "Question #10: how would you create a list in a program?\n",
      "A: mylist = ()\n",
      "B: mylist = []\n",
      "C: mylist = {}\n"
     ]
    },
    {
     "name": "stdin",
     "output_type": "stream",
     "text": [
      "Answer:\t a\n"
     ]
    },
    {
     "name": "stdout",
     "output_type": "stream",
     "text": [
      "Incorrect.\n",
      "\n",
      "Results successfully written to Garrett_Jones_A12345.txt\n",
      "Quiz has ended. Please enter (Q) to exit the program or (S) to start a new quiz.\n"
     ]
    },
    {
     "name": "stdin",
     "output_type": "stream",
     "text": [
      " q\n"
     ]
    },
    {
     "name": "stdout",
     "output_type": "stream",
     "text": [
      "Program has been terminated.\n"
     ]
    }
   ],
   "source": [
    "import csv\n",
    "import random\n",
    "import time\n",
    "\n",
    "def import_test_bank():\n",
    "    with open(\"CPSC 236 TestBank.csv\",\"r\") as file:\n",
    "        reader=csv.reader(file)\n",
    "        bank=[]\n",
    "        for row in reader:\n",
    "            bank.append(row)\n",
    "        bank.pop(0)\n",
    "    return bank\n",
    "\n",
    "def get_question(test_bank,used_up):\n",
    "    while True:\n",
    "        question_num=random.randint(0,len(test_bank)-1)\n",
    "        if question_num in used_up:\n",
    "            print(\"[Skipping duplicate question]\")\n",
    "            continue\n",
    "        used_up.append(question_num)\n",
    "        question_list=test_bank[question_num]\n",
    "        return question_list,used_up\n",
    "\n",
    "def display_question(question_info,question_number):\n",
    "    print(\"Question #\"+str(question_number)+\": \"+question_info[0])\n",
    "    print(\"A: \"+question_info[1])\n",
    "    print(\"B: \"+question_info[2])\n",
    "    print(\"C: \"+question_info[3])\n",
    "\n",
    "def get_user_info():\n",
    "    bad_attempts=0\n",
    "    break_code=\"False\"\n",
    "    user_info=[]\n",
    "    fname_entry=input(\"First name:\\t\\t\")\n",
    "    lname_entry=input(\"Last name:\\t\\t\")\n",
    "    while bad_attempts<=2:\n",
    "        id_entry=input(\"Student ID (A#####):\\t\")\n",
    "        if id_entry.startswith(\"A\")==True:\n",
    "            if len(id_entry)==6:\n",
    "                break\n",
    "            else:\n",
    "                print(\"Student ID number consists of 'A' followed by 5 numerals.\")\n",
    "                bad_attempts+=1\n",
    "        else:\n",
    "            print(\"Student ID should begin with 'A'\")  \n",
    "            bad_attempts+=1\n",
    "    if bad_attempts>2:\n",
    "        break_code=\"True\"\n",
    "        print(\"Maximum number of attempts reached, terminating quiz.\")\n",
    "    print()\n",
    "    user_info.append(fname_entry)\n",
    "    user_info.append(lname_entry)\n",
    "    user_info.append(id_entry)\n",
    "    return user_info,break_code\n",
    "\n",
    "def write_results(user_info,score,time,used_questions,student_answers,skipped):\n",
    "    index=0\n",
    "    filename=user_info[0]+\"_\"+user_info[1]+\"_\"+user_info[2]+\".txt\"\n",
    "    mintime,sectime=format_seconds(time)\n",
    "    score_pct=round((score/10)*100,2)\n",
    "    with open(filename,\"w\") as file:\n",
    "        file.write(\"Student ID: \"+user_info[2]+\"\\n\")\n",
    "        file.write(\"Name: \"+user_info[0]+\" \"+user_info[1]+\"\\n\\n\")\n",
    "        file.write(\"Score: \"+str(score)+\"/10\\t(\"+str(score_pct)+\"%)\\n\")\n",
    "        file.write(\"Time elapsed: \"+str(mintime)+\" minutes and \"+str(sectime)+\" seconds\\n\\n\")\n",
    "        for item in used_questions:\n",
    "            file.write(\"#\"+str(index+1)+\": \"+item[0]+\"\\n\")\n",
    "            file.write(\"Correct answer: \"+item[4]+\"\\n\")\n",
    "            file.write(\"Student answer: \"+student_answers[index]+\"\\n\")\n",
    "            index+=1\n",
    "        if skipped>0:\n",
    "            file.write(\"\\n\"+str(skipped)+\" questions were skipped due to running out of time.\")\n",
    "        print(\"Results successfully written to \"+filename)\n",
    "\n",
    "def test_size():\n",
    "    print(\"How many questions would you like your quiz to have?\")\n",
    "    print(\"(A) - 10 questions\")\n",
    "    print(\"(B) - 20 questions\")\n",
    "    while True:\n",
    "        size_code=input()\n",
    "        if size_code.upper()==\"A\":\n",
    "            print(\"Proceeding with 10 questions\\n\")\n",
    "            test_cap=11\n",
    "            weight=1\n",
    "            break\n",
    "        elif size_code.upper()==\"B\":\n",
    "            print(\"Proceeding with 20 questions\\n\")\n",
    "            test_cap=21\n",
    "            weight-0.5\n",
    "            break\n",
    "        else:\n",
    "            print(\"Valid inputs are 'A' or 'B'\")\n",
    "    return test_cap,weight\n",
    "\n",
    "def format_seconds(time):\n",
    "    minutes=time//60\n",
    "    seconds=time-(minutes*60)\n",
    "    return minutes,seconds\n",
    "\n",
    "def main():\n",
    "    test_bank=import_test_bank()\n",
    "    break_code=\"False\"\n",
    "    while break_code==\"False\":\n",
    "        question_number=1\n",
    "        correct_ct=0\n",
    "        ttime=0\n",
    "        used_up=[]\n",
    "        used_questions=[]\n",
    "        student_answers=[]\n",
    "        skipped=0\n",
    "        break_code=False\n",
    "        user_info,break_code=get_user_info()\n",
    "        start_time=round(time.time(),0)\n",
    "        while break_code==\"False\":\n",
    "            test_cap,weight=test_size()\n",
    "            while question_number<test_cap:\n",
    "                question_info,used_up=get_question(test_bank,used_up)\n",
    "                display_question(question_info,question_number)\n",
    "                correct_answer=question_info[4]\n",
    "                while True:\n",
    "                    user_answer=input(\"Answer:\\t\")\n",
    "                    if user_answer.upper()==\"A\" or user_answer.upper()==\"B\" or user_answer.upper()==\"C\":\n",
    "                        break\n",
    "                    else:\n",
    "                        print(\"Please enter a valid answer (A, B, or C)\")\n",
    "                if user_answer.upper()==correct_answer.upper():\n",
    "                    correct_ct+=1\n",
    "                    print(\"Correct.\\n\")\n",
    "                else:\n",
    "                    print(\"Incorrect.\\n\")\n",
    "                used_questions.append(question_info)\n",
    "                student_answers.append(user_answer.upper())\n",
    "                question_number+=1\n",
    "                cur_time=round(time.time(),0)\n",
    "                elapsed_time=cur_time-start_time\n",
    "                if elapsed_time>600 and question_number<test_cap:\n",
    "                    print(\"Time limit reached. Test is concluding early.\")\n",
    "                    skipped=test_cap-question_number\n",
    "                    print(\"Number of questions remaining: \"+str(skipped)+\"\\n\")\n",
    "                    break\n",
    "            score=correct_ct*weight\n",
    "            endtime=round(time.time(),0)\n",
    "            ttime=endtime-start_time\n",
    "            write_results(user_info,score,ttime,used_questions,student_answers,skipped)\n",
    "            break\n",
    "        print(\"Quiz has ended. Please enter (Q) to exit the program or (S) to start a new quiz.\")\n",
    "        while True:\n",
    "            choice=input()\n",
    "            if choice.upper()==\"Q\" or choice.upper()==\"S\":\n",
    "                break\n",
    "            else:\n",
    "                print(\"Valid entries are 'Q' and 'S'\")\n",
    "        if choice.upper()==\"Q\":\n",
    "            print(\"Program has been terminated.\")\n",
    "            break\n",
    "        elif choice.upper()==\"S\":\n",
    "            print(\"Starting over for a new student.\")\n",
    "            continue\n",
    "            \n",
    "if __name__==\"__main__\":\n",
    "    main()"
   ]
  },
  {
   "cell_type": "code",
   "execution_count": 57,
   "id": "5df6ca75-3fcd-4792-a915-d20d721eb55d",
   "metadata": {},
   "outputs": [
    {
     "name": "stdout",
     "output_type": "stream",
     "text": [
      "2\n"
     ]
    }
   ],
   "source": []
  },
  {
   "cell_type": "code",
   "execution_count": null,
   "id": "160aefa9-0549-443e-93ec-4a80a436eb02",
   "metadata": {},
   "outputs": [],
   "source": []
  }
 ],
 "metadata": {
  "kernelspec": {
   "display_name": "Python 3 (ipykernel)",
   "language": "python",
   "name": "python3"
  },
  "language_info": {
   "codemirror_mode": {
    "name": "ipython",
    "version": 3
   },
   "file_extension": ".py",
   "mimetype": "text/x-python",
   "name": "python",
   "nbconvert_exporter": "python",
   "pygments_lexer": "ipython3",
   "version": "3.12.1"
  }
 },
 "nbformat": 4,
 "nbformat_minor": 5
}
