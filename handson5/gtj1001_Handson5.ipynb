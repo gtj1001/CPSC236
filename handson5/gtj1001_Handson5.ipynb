{
 "cells": [
  {
   "cell_type": "markdown",
   "metadata": {},
   "source": [
    "# File Input\n",
    "\n",
    "To submit this assignment in D2l, post the link to your notebook file on your GitHub account."
   ]
  },
  {
   "cell_type": "markdown",
   "metadata": {},
   "source": [
    "## 7.1 Pig Dice Rules\n",
    "Create a program that reads a list of rules from a file and displays them.\n",
    "\n",
    "### Console:\n",
    "```powershell\n",
    "Pig Dice Rules:\n",
    "*\tSee how many turns it takes you to get to 20.\n",
    "*\tTurn ends when player rolls a 1 or chooses to hold.\n",
    "*\tIf you roll a 1, you lose all points earned during the turn.\n",
    "*\tIf you hold, you save all points earned during the turn.\n",
    "```\n",
    "\n",
    "### Specifications:\n",
    "- Use the attached text file named `pig_dice_rules.txt` in the corresponding Directory.\n",
    "- Your program should read the text file and display it on the console.\n"
   ]
  },
  {
   "cell_type": "code",
   "execution_count": 1,
   "metadata": {},
   "outputs": [
    {
     "name": "stdout",
     "output_type": "stream",
     "text": [
      "Pig Dice Rules:\n",
      "\n",
      "* See how many turns it takes you to get to 20.\n",
      "\n",
      "* Turn ends when player rolls a 1 or chooses to hold.\n",
      "\n",
      "* If you roll a 1, you lose all points earned during the turn.\n",
      "\n",
      "* If you hold, you save all points earned during the turn.\n"
     ]
    }
   ],
   "source": [
    "with open(\"pig_dice_rules.txt\",\"r\") as file:\n",
    "    for line in file:\n",
    "        print(line)"
   ]
  },
  {
   "cell_type": "markdown",
   "metadata": {},
   "source": [
    "## 7.2 Wizard Inventory\n",
    "Create a program that keeps track of the items that a wizard can carry.\n",
    "\n",
    "### Console:\n",
    "```powershell\n",
    "The Wizard Inventroy Program\n",
    "\n",
    "COMMAND MENU\n",
    "walk - Walk down the path show - Show all items drop - Drop an item\n",
    "exit - Exit program\n",
    "\n",
    "Command: walk\n",
    "While walking down a path, you see a scroll of uncursing. Do you want to grab it? (y/n): y\n",
    "You picked up a scroll of uncursing.\n",
    "\n",
    "Command: walk\n",
    "While walking down a path, you see an unknown potion. Do you want to grab it? (y/n): y\n",
    "You can't carry any more items. Drop something first.\n",
    "\n",
    "Command: show\n",
    "1.\ta wooden staff\n",
    "2.\ta scroll of invisibility\n",
    "3.\ta crossbow\n",
    "4.\ta scroll of uncursing\n",
    "\n",
    "Command: drop Number: 3\n",
    "You dropped a crossbow.\n",
    "\n",
    "Command: exit Bye!\n",
    "```\n",
    "\n",
    "### Specifications:\n",
    "- Use the attached text file named `wizard_all_items.txt` that contains a list of all the items that a wizard can carry. (in the corresponding directory)\n",
    "- When the user selects the walk command, the program should read the items from the file, randomly pick one, and give the user the option to grab it.\n",
    "- Your program should create another file that stores the items that the wizard is carrying (`wizard_inventory.txt`). Make sure to update this file every time the user grabs or drops an item.\n",
    "- The wizard can only carry **four** items at a time.\n",
    "- For the drop command, display an error message if the user enters an invalid number for the item.\n",
    "\n"
   ]
  },
  {
   "cell_type": "code",
   "execution_count": 26,
   "metadata": {},
   "outputs": [
    {
     "name": "stdout",
     "output_type": "stream",
     "text": [
      "The Wizard Inventory Program\n",
      "\n",
      "COMMAND MENU\n",
      "walk - Walk down the path\n",
      "show - Show all items\n",
      "drop - Drop an item\n",
      "exit - Exit program\n",
      "Command: walk\n",
      "While walking down the path, you see a cloak of invisibility . Do you want to grab it? (y/n): y\n",
      "You picked up a cloak of invisibility .\n",
      "Command: walk\n",
      "While walking down the path, you see a scroll of invisibility . Do you want to grab it? (y/n): y\n",
      "You picked up a scroll of invisibility .\n",
      "Command: walk\n",
      "While walking down the path, you see an unknown potion . Do you want to grab it? (y/n): y\n",
      "You picked up an unknown potion .\n",
      "Command: show\n",
      "1. a wooden staff \n",
      "\n",
      "2. a cloak of invisibility \n",
      "\n",
      "3. a scroll of invisibility \n",
      "\n",
      "4. an unknown potion \n",
      "\n",
      "Command: walk\n",
      "While walking down the path, you see some elven bread . Do you want to grab it? (y/n): y\n",
      "You can't carry any more items. Drop something first.\n",
      "Command: drop\n",
      "Item to drop:3\n",
      "You dropped a scroll of invisibility  \n",
      "Command: show\n",
      "1. a wooden staff  \n",
      "\n",
      "2. a cloak of invisibility  \n",
      "\n",
      "3. an unknown potion  \n",
      "\n",
      "Command: exit\n"
     ]
    }
   ],
   "source": [
    "import random\n",
    "\n",
    "def menu():\n",
    "    print(\"COMMAND MENU\")\n",
    "    print(\"walk - Walk down the path\")\n",
    "    print(\"show - Show all items\")\n",
    "    print(\"drop - Drop an item\")\n",
    "    print(\"exit - Exit program\")\n",
    "\n",
    "def walk():\n",
    "    item_pool=[]\n",
    "    inventory=[]\n",
    "    with open(\"wizard_all_items.txt\",\"r\") as file:\n",
    "        for line in file:\n",
    "            line=line.replace(\"\\n\",\" \")\n",
    "            item_pool.append(line)\n",
    "    with open(\"wizard_inventory.txt\",\"r\") as file:\n",
    "        for line in file:\n",
    "            line=line.replace(\"\\n\",\" \")\n",
    "            inventory.append(line)\n",
    "    found_index=random.randint(0,len(item_pool)-1)\n",
    "    found_item=item_pool[found_index]\n",
    "    pickup=input(\"While walking down the path, you see \"+found_item+\". Do you want to grab it? (y/n): \")\n",
    "    if pickup.lower()==\"y\":\n",
    "        if len(inventory)<4:\n",
    "            with open(\"wizard_inventory.txt\",\"a\") as file:\n",
    "                if len(inventory)==1:\n",
    "                    file.write(\"\\n\")\n",
    "                file.write(found_item+\"\\n\")\n",
    "            print(\"You picked up \"+found_item+\".\")\n",
    "        else:\n",
    "            print(\"You can't carry any more items. Drop something first.\")\n",
    "\n",
    "def show():\n",
    "    i=1\n",
    "    with open(\"wizard_inventory.txt\",\"r\") as file:\n",
    "        for line in file:\n",
    "            print(str(i)+\". \",end='')\n",
    "            print(line)\n",
    "            i+=1\n",
    "\n",
    "def drop():\n",
    "    inventory=[]\n",
    "    with open(\"wizard_inventory.txt\",\"r\") as file:\n",
    "        for line in file:\n",
    "            line=line.replace(\"\\n\",\" \")\n",
    "            inventory.append(line)\n",
    "    drop_index=int(input(\"Item to drop:\"))\n",
    "    if drop_index<=len(inventory):\n",
    "        dropped_item=inventory.pop(drop_index-1)\n",
    "        with open(\"wizard_inventory.txt\",\"w\") as file:\n",
    "            for item in inventory:\n",
    "                file.write(item+\"\\n\")\n",
    "        print(\"You dropped \"+dropped_item)\n",
    "    else:\n",
    "        print(\"Invalid item number.\")\n",
    "\n",
    "def main():\n",
    "    print(\"The Wizard Inventory Program\\n\")\n",
    "    menu()\n",
    "    while True:\n",
    "        entry=input(\"Command: \")\n",
    "        if entry.lower()==\"walk\":\n",
    "            walk()\n",
    "        elif entry.lower()==\"show\":\n",
    "            show()\n",
    "        elif entry.lower()==\"drop\":\n",
    "            drop()\n",
    "        elif entry.lower()==\"exit\":\n",
    "            break\n",
    "        else:\n",
    "            print(\"Invalid commmand.\")\n",
    "    \n",
    "if __name__==\"__main__\":\n",
    "    main()"
   ]
  },
  {
   "cell_type": "code",
   "execution_count": null,
   "metadata": {},
   "outputs": [],
   "source": [
    "## 7.3 Monthly Sales\n",
    "Create a program that reads the sales for 12 months from a file and calculates the total yearly sales as well as the average monthly sales. \n",
    "In addition, this program should let the user edit the sales for any month.\n",
    "\n",
    "### Console:\n",
    "```powershell\n",
    "Monthly Sales program\n",
    "\n",
    "COMMAND MENU\n",
    "monthly - View monthly sales \n",
    "yearly\t- View yearly sumary \n",
    "edit\t- Edit sales for a month \n",
    "exit\t- Exit program\n",
    "\n",
    "Command: monthly Jan - 14317\n",
    "Feb - 3903\n",
    "Mar - 1073\n",
    "Apr - 3463\n",
    "May - 2429\n",
    "Jun - 4324\n",
    "Jul - 9762\n",
    "Aug - 15578\n",
    "Sep - 2437\n",
    "Oct - 6735\n",
    "Nov - 88\n",
    "Dec - 2497\n",
    "\n",
    "Command: yearly\n",
    "Yearly total:\t66606\n",
    "Monthly average:\t5550.5\n",
    "\n",
    "Command: edit\n",
    "Three-letter Month: Nov Sales Amount: 8854\n",
    "Sales amount for Nov was modified.\n",
    "\n",
    "Command: exit Bye!\n",
    "```\n",
    "\n",
    "### Specifications:\n",
    "- Use the attached text file named CSV file named `monthly_sales.csv` that contains the month and sales data shown above.\n",
    "- For the edit command, display an error message if the user doesn’t enter a valid three-letter abbreviation for the month.\n",
    "- When the user edits the sales amount for a month, the data should be saved to the CSV file immediately. That way, no data is lost, even if the program crashes later.\n",
    "- Round the results of the monthly average to a maximum of 2 decimal digits."
   ]
  },
  {
   "cell_type": "code",
   "execution_count": 29,
   "metadata": {},
   "outputs": [
    {
     "name": "stdout",
     "output_type": "stream",
     "text": [
      "COMMAND MENU\n",
      "monthly\t- View monthly sales\n",
      "yearly\t- View yearly summary\n",
      "edit\t- Edit sales for a month\n",
      "exit\t- Exit program\n",
      "\n"
     ]
    },
    {
     "name": "stdin",
     "output_type": "stream",
     "text": [
      "Command:  monthly\n"
     ]
    },
    {
     "name": "stdout",
     "output_type": "stream",
     "text": [
      "\n",
      "Jan\t- 14317\n",
      "Feb\t- 3903\n",
      "Mar\t- 1073\n",
      "Apr\t- 3463\n",
      "May\t- 2429\n",
      "Jun\t- 4324\n",
      "Jul\t- 9762\n",
      "Aug\t- 15578\n",
      "Sep\t- 2437\n",
      "Oct\t- 6735\n",
      "Nov\t- 1444\n",
      "Dec\t- 2497\n",
      "\n"
     ]
    },
    {
     "name": "stdin",
     "output_type": "stream",
     "text": [
      "Command:  yearly\n"
     ]
    },
    {
     "name": "stdout",
     "output_type": "stream",
     "text": [
      "\n",
      "Yearly total:\t\t 67962\n",
      "Monthly average:\t5663.5\n",
      "\n"
     ]
    },
    {
     "name": "stdin",
     "output_type": "stream",
     "text": [
      "Command:  edit\n"
     ]
    },
    {
     "name": "stdout",
     "output_type": "stream",
     "text": [
      "\n"
     ]
    },
    {
     "name": "stdin",
     "output_type": "stream",
     "text": [
      "Three letter month:  nov\n",
      "Sales amount:  1444\n"
     ]
    },
    {
     "name": "stdout",
     "output_type": "stream",
     "text": [
      "Sales amount for nov was edited.\n",
      "\n"
     ]
    },
    {
     "name": "stdin",
     "output_type": "stream",
     "text": [
      "Command:  exit\n"
     ]
    },
    {
     "name": "stdout",
     "output_type": "stream",
     "text": [
      "\n"
     ]
    }
   ],
   "source": [
    "import csv\n",
    "\n",
    "def menu():\n",
    "    print(\"COMMAND MENU\")\n",
    "    print(\"monthly\\t- View monthly sales\")\n",
    "    print(\"yearly\\t- View yearly summary\")\n",
    "    print(\"edit\\t- Edit sales for a month\")\n",
    "    print(\"exit\\t- Exit program\")\n",
    "\n",
    "def monthly():\n",
    "    with open(\"monthly_sales.csv\",\"r\") as file:\n",
    "        reader=csv.reader(file)\n",
    "        for row in reader:\n",
    "            print(row[0]+\"\\t- \"+row[1])\n",
    "            \n",
    "def yearly():\n",
    "    monthly_sales=[]\n",
    "    total=0\n",
    "    with open(\"monthly_sales.csv\",\"r\") as file:\n",
    "        reader=csv.reader(file)\n",
    "        for row in reader:\n",
    "            monthly_sales.append(row)\n",
    "    for row in monthly_sales:\n",
    "        total+=int(row[1])\n",
    "    average=round(total/len(monthly_sales),2)\n",
    "    print(\"Yearly total:\\t\\t \"+str(total))\n",
    "    print(\"Monthly average:\\t\"+str(average))\n",
    "    \n",
    "    \n",
    "def edit():\n",
    "    monthly_sales=[]\n",
    "    monthlist=[]\n",
    "    i=0\n",
    "    with open(\"monthly_sales.csv\",\"r\") as file:\n",
    "        reader=csv.reader(file)\n",
    "        for row in reader:\n",
    "            monthly_sales.append(row)\n",
    "    while i<12:\n",
    "        monthlist.append(monthly_sales[i][0].lower())\n",
    "        i+=1\n",
    "    month=input(\"Three letter month: \")\n",
    "    if month.lower() in monthlist:\n",
    "        new_sales=int(input(\"Sales amount: \"))\n",
    "        edit_index=monthlist.index(month.lower())\n",
    "        monthly_sales[edit_index][1]=new_sales\n",
    "        with open(\"monthly_sales.csv\",\"w\",newline=\"\") as file:\n",
    "            writer=csv.writer(file)\n",
    "            writer.writerows(monthly_sales)\n",
    "        print(\"Sales amount for \"+month+\" was edited.\")\n",
    "    else:\n",
    "        print(\"Invalid month entry.\")\n",
    "    \n",
    "def main():\n",
    "    menu()\n",
    "    while True:\n",
    "        print()\n",
    "        entry=input(\"Command: \")\n",
    "        print()\n",
    "        if entry==\"monthly\":\n",
    "            monthly()\n",
    "        elif entry==\"yearly\":\n",
    "            yearly()\n",
    "        elif entry==\"edit\":\n",
    "            edit()\n",
    "        elif entry==\"exit\":\n",
    "            break\n",
    "        else:\n",
    "            print(\"Invalid command\")\n",
    "\n",
    "if __name__==\"__main__\":\n",
    "    main()"
   ]
  },
  {
   "cell_type": "code",
   "execution_count": null,
   "metadata": {},
   "outputs": [],
   "source": []
  }
 ],
 "metadata": {
  "kernelspec": {
   "display_name": "Python 3 (ipykernel)",
   "language": "python",
   "name": "python3"
  },
  "language_info": {
   "codemirror_mode": {
    "name": "ipython",
    "version": 3
   },
   "file_extension": ".py",
   "mimetype": "text/x-python",
   "name": "python",
   "nbconvert_exporter": "python",
   "pygments_lexer": "ipython3",
   "version": "3.12.1"
  }
 },
 "nbformat": 4,
 "nbformat_minor": 4
}
